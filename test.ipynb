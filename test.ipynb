{
 "cells": [
  {
   "cell_type": "code",
   "execution_count": null,
   "id": "7fa88871",
   "metadata": {},
   "outputs": [],
   "source": [
    "import pandas as pd\n",
    "import matplotlib.pyplot as plt\n",
    "%matplotlib inline\n",
    "df = pd.read_parquet('data/2504_temp2.parquet')\n"
   ]
  },
  {
   "cell_type": "code",
   "execution_count": 4,
   "id": "01e440f4",
   "metadata": {},
   "outputs": [
    {
     "data": {
      "text/html": [
       "<div>\n",
       "<style scoped>\n",
       "    .dataframe tbody tr th:only-of-type {\n",
       "        vertical-align: middle;\n",
       "    }\n",
       "\n",
       "    .dataframe tbody tr th {\n",
       "        vertical-align: top;\n",
       "    }\n",
       "\n",
       "    .dataframe thead th {\n",
       "        text-align: right;\n",
       "    }\n",
       "</style>\n",
       "<table border=\"1\" class=\"dataframe\">\n",
       "  <thead>\n",
       "    <tr style=\"text-align: right;\">\n",
       "      <th></th>\n",
       "      <th>uid</th>\n",
       "      <th>0_tot_use_day_cnt</th>\n",
       "      <th>0_is_D01</th>\n",
       "      <th>0_SECRET</th>\n",
       "      <th>0_event</th>\n",
       "      <th>0_main</th>\n",
       "      <th>0_ad</th>\n",
       "      <th>0_main_event</th>\n",
       "      <th>0_gacha_count</th>\n",
       "      <th>0_buy_package_buy_count</th>\n",
       "      <th>...</th>\n",
       "      <th>6_event_accu</th>\n",
       "      <th>6_main_accu</th>\n",
       "      <th>6_ad_accu</th>\n",
       "      <th>6_main_event_accu</th>\n",
       "      <th>6_gacha_count_accu</th>\n",
       "      <th>6_buy_package_buy_count_accu</th>\n",
       "      <th>6_buy_ruby_buy_count_accu</th>\n",
       "      <th>6_buy_package_sale_amt_accu</th>\n",
       "      <th>6_buy_ruby_sale_amt_accu</th>\n",
       "      <th>cluster</th>\n",
       "    </tr>\n",
       "  </thead>\n",
       "  <tbody>\n",
       "    <tr>\n",
       "      <th>0</th>\n",
       "      <td>000000.7cf1cd85d40a41ca8c3122a49d97e3f3.0727</td>\n",
       "      <td>1.0</td>\n",
       "      <td>1</td>\n",
       "      <td>0.0</td>\n",
       "      <td>0.0</td>\n",
       "      <td>37.0</td>\n",
       "      <td>0.0</td>\n",
       "      <td>0.0</td>\n",
       "      <td>1.0</td>\n",
       "      <td>0.0</td>\n",
       "      <td>...</td>\n",
       "      <td>0.0</td>\n",
       "      <td>274.0</td>\n",
       "      <td>0.0</td>\n",
       "      <td>0.0</td>\n",
       "      <td>1.0</td>\n",
       "      <td>0.0</td>\n",
       "      <td>0.0</td>\n",
       "      <td>0.0</td>\n",
       "      <td>0.0</td>\n",
       "      <td>0</td>\n",
       "    </tr>\n",
       "    <tr>\n",
       "      <th>1</th>\n",
       "      <td>000020.f0d131e37ba242a180607c67ff444ea4.1055</td>\n",
       "      <td>1.0</td>\n",
       "      <td>1</td>\n",
       "      <td>0.0</td>\n",
       "      <td>0.0</td>\n",
       "      <td>55.0</td>\n",
       "      <td>2.0</td>\n",
       "      <td>0.0</td>\n",
       "      <td>1.0</td>\n",
       "      <td>0.0</td>\n",
       "      <td>...</td>\n",
       "      <td>0.0</td>\n",
       "      <td>109.0</td>\n",
       "      <td>2.0</td>\n",
       "      <td>0.0</td>\n",
       "      <td>1.0</td>\n",
       "      <td>0.0</td>\n",
       "      <td>0.0</td>\n",
       "      <td>0.0</td>\n",
       "      <td>0.0</td>\n",
       "      <td>0</td>\n",
       "    </tr>\n",
       "    <tr>\n",
       "      <th>2</th>\n",
       "      <td>000025.d0c6cef628d340d19742f95e43104afc.1701</td>\n",
       "      <td>1.0</td>\n",
       "      <td>1</td>\n",
       "      <td>0.0</td>\n",
       "      <td>0.0</td>\n",
       "      <td>125.0</td>\n",
       "      <td>3.0</td>\n",
       "      <td>0.0</td>\n",
       "      <td>1.0</td>\n",
       "      <td>0.0</td>\n",
       "      <td>...</td>\n",
       "      <td>0.0</td>\n",
       "      <td>147.0</td>\n",
       "      <td>5.0</td>\n",
       "      <td>0.0</td>\n",
       "      <td>1.0</td>\n",
       "      <td>0.0</td>\n",
       "      <td>0.0</td>\n",
       "      <td>0.0</td>\n",
       "      <td>0.0</td>\n",
       "      <td>0</td>\n",
       "    </tr>\n",
       "    <tr>\n",
       "      <th>3</th>\n",
       "      <td>000042.5a4b4218370b43a39358e4ec4930ef4b.0208</td>\n",
       "      <td>1.0</td>\n",
       "      <td>1</td>\n",
       "      <td>0.0</td>\n",
       "      <td>0.0</td>\n",
       "      <td>90.0</td>\n",
       "      <td>0.0</td>\n",
       "      <td>0.0</td>\n",
       "      <td>1.0</td>\n",
       "      <td>0.0</td>\n",
       "      <td>...</td>\n",
       "      <td>0.0</td>\n",
       "      <td>135.0</td>\n",
       "      <td>0.0</td>\n",
       "      <td>24.0</td>\n",
       "      <td>1.0</td>\n",
       "      <td>0.0</td>\n",
       "      <td>0.0</td>\n",
       "      <td>0.0</td>\n",
       "      <td>0.0</td>\n",
       "      <td>0</td>\n",
       "    </tr>\n",
       "    <tr>\n",
       "      <th>4</th>\n",
       "      <td>000046.3fe00a622abe4254a3510a6056c0e08c.0319</td>\n",
       "      <td>1.0</td>\n",
       "      <td>1</td>\n",
       "      <td>0.0</td>\n",
       "      <td>0.0</td>\n",
       "      <td>46.0</td>\n",
       "      <td>0.0</td>\n",
       "      <td>0.0</td>\n",
       "      <td>1.0</td>\n",
       "      <td>0.0</td>\n",
       "      <td>...</td>\n",
       "      <td>0.0</td>\n",
       "      <td>167.0</td>\n",
       "      <td>0.0</td>\n",
       "      <td>60.0</td>\n",
       "      <td>1.0</td>\n",
       "      <td>0.0</td>\n",
       "      <td>0.0</td>\n",
       "      <td>0.0</td>\n",
       "      <td>0.0</td>\n",
       "      <td>0</td>\n",
       "    </tr>\n",
       "  </tbody>\n",
       "</table>\n",
       "<p>5 rows × 156 columns</p>\n",
       "</div>"
      ],
      "text/plain": [
       "                                            uid  0_tot_use_day_cnt  0_is_D01  \\\n",
       "0  000000.7cf1cd85d40a41ca8c3122a49d97e3f3.0727                1.0         1   \n",
       "1  000020.f0d131e37ba242a180607c67ff444ea4.1055                1.0         1   \n",
       "2  000025.d0c6cef628d340d19742f95e43104afc.1701                1.0         1   \n",
       "3  000042.5a4b4218370b43a39358e4ec4930ef4b.0208                1.0         1   \n",
       "4  000046.3fe00a622abe4254a3510a6056c0e08c.0319                1.0         1   \n",
       "\n",
       "   0_SECRET  0_event  0_main  0_ad  0_main_event  0_gacha_count  \\\n",
       "0       0.0      0.0    37.0   0.0           0.0            1.0   \n",
       "1       0.0      0.0    55.0   2.0           0.0            1.0   \n",
       "2       0.0      0.0   125.0   3.0           0.0            1.0   \n",
       "3       0.0      0.0    90.0   0.0           0.0            1.0   \n",
       "4       0.0      0.0    46.0   0.0           0.0            1.0   \n",
       "\n",
       "   0_buy_package_buy_count  ...  6_event_accu  6_main_accu  6_ad_accu  \\\n",
       "0                      0.0  ...           0.0        274.0        0.0   \n",
       "1                      0.0  ...           0.0        109.0        2.0   \n",
       "2                      0.0  ...           0.0        147.0        5.0   \n",
       "3                      0.0  ...           0.0        135.0        0.0   \n",
       "4                      0.0  ...           0.0        167.0        0.0   \n",
       "\n",
       "   6_main_event_accu  6_gacha_count_accu  6_buy_package_buy_count_accu  \\\n",
       "0                0.0                 1.0                           0.0   \n",
       "1                0.0                 1.0                           0.0   \n",
       "2                0.0                 1.0                           0.0   \n",
       "3               24.0                 1.0                           0.0   \n",
       "4               60.0                 1.0                           0.0   \n",
       "\n",
       "   6_buy_ruby_buy_count_accu  6_buy_package_sale_amt_accu  \\\n",
       "0                        0.0                          0.0   \n",
       "1                        0.0                          0.0   \n",
       "2                        0.0                          0.0   \n",
       "3                        0.0                          0.0   \n",
       "4                        0.0                          0.0   \n",
       "\n",
       "   6_buy_ruby_sale_amt_accu  cluster  \n",
       "0                       0.0        0  \n",
       "1                       0.0        0  \n",
       "2                       0.0        0  \n",
       "3                       0.0        0  \n",
       "4                       0.0        0  \n",
       "\n",
       "[5 rows x 156 columns]"
      ]
     },
     "execution_count": 4,
     "metadata": {},
     "output_type": "execute_result"
    }
   ],
   "source": [
    "df.head()"
   ]
  },
  {
   "cell_type": "code",
   "execution_count": 12,
   "id": "fd50e310",
   "metadata": {},
   "outputs": [
    {
     "data": {
      "text/plain": [
       "<Axes: >"
      ]
     },
     "execution_count": 12,
     "metadata": {},
     "output_type": "execute_result"
    }
   ],
   "source": [
    "df['0_SECRET'].hist()"
   ]
  },
  {
   "cell_type": "code",
   "execution_count": null,
   "id": "ec01a7f6",
   "metadata": {},
   "outputs": [],
   "source": []
  },
  {
   "cell_type": "code",
   "execution_count": 1,
   "id": "0ad1320a",
   "metadata": {},
   "outputs": [
    {
     "name": "stdout",
     "output_type": "stream",
     "text": [
      "✅ 데이터가 'iris_dataset.parquet'로 성공적으로 저장되었습니다.\n"
     ]
    }
   ],
   "source": [
    "from sklearn.datasets import load_iris\n",
    "import pandas as pd\n",
    "\n",
    "# 1. Iris 데이터셋 로드\n",
    "iris = load_iris()\n",
    "X = iris.data   # 특성 (feature)\n",
    "y = iris.target # 레이블 (target)\n",
    "\n",
    "# 2. Pandas DataFrame으로 변환\n",
    "df = pd.DataFrame(X, columns=iris.feature_names)\n",
    "df['target'] = y\n",
    "df['target_name'] = df['target'].apply(lambda x: iris.target_names[x])\n",
    "\n",
    "# 3. Parquet 형식으로 저장\n",
    "df.to_parquet('iris_dataset.parquet', engine='pyarrow')\n",
    "\n",
    "print(\"✅ 데이터가 'iris_dataset.parquet'로 성공적으로 저장되었습니다.\")"
   ]
  },
  {
   "cell_type": "code",
   "execution_count": 2,
   "id": "c750091e",
   "metadata": {},
   "outputs": [
    {
     "name": "stderr",
     "output_type": "stream",
     "text": [
      "/Users/user/Documents/myenv/data_master/.venv/lib/python3.12/site-packages/tqdm/auto.py:21: TqdmWarning: IProgress not found. Please update jupyter and ipywidgets. See https://ipywidgets.readthedocs.io/en/stable/user_install.html\n",
      "  from .autonotebook import tqdm as notebook_tqdm\n"
     ]
    },
    {
     "data": {
      "text/html": [
       "\n",
       "            <div>\n",
       "                <ins><a href=\"https://ydata.ai/register\">Upgrade to ydata-sdk</a></ins>\n",
       "                <p>\n",
       "                    Improve your data and profiling with ydata-sdk, featuring data quality scoring, redundancy detection, outlier identification, text validation, and synthetic data generation.\n",
       "                </p>\n",
       "            </div>\n",
       "            "
      ],
      "text/plain": [
       "<IPython.core.display.HTML object>"
      ]
     },
     "metadata": {},
     "output_type": "display_data"
    },
    {
     "name": "stderr",
     "output_type": "stream",
     "text": [
      "100%|██████████| 6/6 [00:00<00:00, 721.60it/s]0<00:00, 124.55it/s, Describe variable: target_name]\n",
      "Summarize dataset: 100%|██████████| 31/31 [00:00<00:00, 48.28it/s, Completed]                                   \n",
      "Generate report structure: 100%|██████████| 1/1 [00:00<00:00,  2.09it/s]\n",
      "Render HTML: 100%|██████████| 1/1 [00:00<00:00,  5.44it/s]\n",
      "Export report to file: 100%|██████████| 1/1 [00:00<00:00, 190.18it/s]\n"
     ]
    }
   ],
   "source": [
    "import pandas as pd\n",
    "from ydata_profiling import ProfileReport\n",
    "\n",
    "# 프로파일링 생성\n",
    "profile = ProfileReport(df, title=\"Pandas Profiling Report\", explorative=True)\n",
    "\n",
    "# HTML 파일로 저장\n",
    "profile.to_file(\"your_report.html\")"
   ]
  },
  {
   "cell_type": "code",
   "execution_count": null,
   "id": "cb4aaee5",
   "metadata": {},
   "outputs": [],
   "source": []
  }
 ],
 "metadata": {
  "kernelspec": {
   "display_name": ".venv",
   "language": "python",
   "name": "python3"
  },
  "language_info": {
   "codemirror_mode": {
    "name": "ipython",
    "version": 3
   },
   "file_extension": ".py",
   "mimetype": "text/x-python",
   "name": "python",
   "nbconvert_exporter": "python",
   "pygments_lexer": "ipython3",
   "version": "3.12.9"
  }
 },
 "nbformat": 4,
 "nbformat_minor": 5
}
